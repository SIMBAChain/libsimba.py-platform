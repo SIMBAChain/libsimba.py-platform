{
 "cells": [
  {
   "source": [
    "# Welcome to the walkthrough for the updated Python SDK for libsimba.py-platform\n",
    "\n",
    "To use the Python SDK for SEP, there are two steps the user/developer takes. These two steps assume that you have already created a contract, and an app that uses that contract, on SEP.\n",
    "\n",
    "\n",
    "1. Instantiate a SimbaHintedContract object. Instantiating this object will automatically invoke that object's write_contract method. \n",
    "    This method will generate a .py file that contains a class representation of our smart contract. Our \n",
    "    smart contract's methods will be represented as class methods in this class. \n",
    "2. Instantiate an instance of your contract class. If your smart contract is named \"CarContract\", then you \n",
    "    would instantiate, for example, cc = CarContract(). You would then call your smart contract's methods \n",
    "    as methods of your cc instance. For example, if your smart contract has a method \n",
    "    \"arrived_from_warehouse\", then you can invoke cc.arrived_from_warehouse(), with relevant parameters, \n",
    "    of course. "
   ],
   "cell_type": "markdown",
   "metadata": {
    "collapsed": false,
    "pycharm": {
     "name": "#%% md\n"
    }
   }
  },
  {
   "source": [
    "## First, we import SimbaHintedContract, define our app name, contract name, base api url, contract clas name (which take sthe name of our contract if not specified), and the path of our output file.\n",
    "This output file will be the name of the file that we write our class-based contract object to. \n",
    "In this example, we have already created a contract and app in SEP, both of which have the name \"TestSimbaHinted\". "
   ],
   "cell_type": "markdown",
   "metadata": {
    "collapsed": false,
    "pycharm": {
     "name": "#%% md\n"
    }
   }
  },
  {
   "cell_type": "code",
   "execution_count": null,
   "outputs": [],
   "source": [
    "from libsimba.simba_hinted_contract import SimbaHintedContract\n",
    "app_name = \"TestSimbaHinted\"\n",
    "contract_name = \"TestSimbaHinted\"\n",
    "base_api_url = 'https://api.sep.dev.simbachain.com/'\n",
    "output_file = \"test_simba_hinted.py\"\n",
    "contract_class_name = \"TestSimbaHinted\""
   ],
   "metadata": {
    "collapsed": false,
    "pycharm": {
     "name": "#%%\n"
    }
   }
  },
  {
   "source": [
    "## Next, we instantiate our SimbaHintedContract object:"
   ],
   "cell_type": "markdown",
   "metadata": {
    "collapsed": false,
    "pycharm": {
     "name": "#%% md\n"
    }
   }
  },
  {
   "source": [
    "sch = SimbaHintedContract(\n",
    "    app_name, \n",
    "    contract_name, \n",
    "    contract_class_name=contract_class_name, \n",
    "    base_api_url=base_api_url, \n",
    "    output_file=output_file)"
   ],
   "cell_type": "code",
   "metadata": {
    "collapsed": false,
    "pycharm": {
     "name": "#%%\n"
    }
   },
   "execution_count": null,
   "outputs": []
  },
  {
   "cell_type": "markdown",
   "source": [
    "## Instantiating that object will write our class-based smart contract to \"test_simba_hinted.py\", since that is the name we specified for our output file\n",
    "\n",
    "In this output, solidity structs from our smart contract are represented as subclasses (Addr, Person, AddressPerson). Also note that our contract methods are now represented as class methods (eg nowt, an_arr, etc.). One important detail to notice here is that if a method call does not accept files, then we are given the option to pass a query_method parameter. If query_method == True, then previous invocations of that method call will be queried. If query_method == False, then the method itself will actually be invoked."
   ],
   "metadata": {
    "collapsed": false,
    "pycharm": {
     "name": "#%% md\n"
    }
   }
  },
  {
   "source": [
    "## Here is our generated file:"
   ],
   "cell_type": "markdown",
   "metadata": {}
  },
  {
   "cell_type": "code",
   "execution_count": null,
   "metadata": {},
   "outputs": [],
   "source": [
    "from libsimba.simba import Simba\n",
    "from typing import List, Tuple, Dict, Any, Optional\n",
    "from libsimba.class_converter import ClassToDictConverter, convert_classes\n",
    "from libsimba.file_handler import open_files, close_files\n",
    "\n",
    "class TestSimbaHinted:\n",
    "    def __init__(self):\n",
    "        self.app_name = \"TestSimbaHinted\"\n",
    "        self.base_api_url = \"https://api.sep.dev.simbachain.com/\"\n",
    "        self.contract_name = \"TestSimbaHinted\"\n",
    "        self.simba = Simba(self.base_api_url)\n",
    "        self.simba_contract = self.simba.get_contract(self.app_name, self.contract_name)\n",
    "    \n",
    "    class Addr(ClassToDictConverter):\n",
    "        def __init__(self, street: str = '', number: int = 0, town: str = ''):\n",
    "            self.street=street\n",
    "            self.number=number\n",
    "            self.town=town\n",
    "    \n",
    "    class Person(ClassToDictConverter):\n",
    "        def __init__(self, name: str = '', age: int = 0, addr: \"TestSimbaHinted.Addr\" = None):\n",
    "            self.name=name\n",
    "            self.age=age\n",
    "            self.addr=addr\n",
    "    \n",
    "    class AddressPerson(ClassToDictConverter):\n",
    "        def __init__(self, name: str = '', age: int = 0, addrs: List[\"TestSimbaHinted.Addr\"] = []):\n",
    "            self.name=name\n",
    "            self.age=age\n",
    "            self.addrs=addrs\n",
    "    \n",
    "    def get_bundle_file(self, bundle_hash, file_name, opts: Optional[dict] = None):\n",
    "        return self.simba.get_bundle_file(self.app_name, self.contract_name, bundle_hash, file_name, opts)\n",
    "\n",
    "    def get_transactions(self, opts: Optional[dict] = None):\n",
    "        return self.simba_contract.get_transactions(opts)\n",
    "    \n",
    "    def validate_bundle_hash(self, bundle_hash: str, opts: Optional[dict] = None):\n",
    "        return self.simba_contract.validate_bundle_hash(bundle_hash, opts)\n",
    "\n",
    "    def get_transaction_statuses(self, txn_hashes: List[str] = None, opts: Optional[dict] = None):\n",
    "        return self.simba_contract.get_transaction_statuses(txn_hashes, opts)\n",
    "\n",
    "    def nowt(self, async_method: Optional[bool] = False, opts: Optional[dict] = None, query_method: Optional[bool] = False):\n",
    "        \"\"\"\n",
    "        If query_method == True, then invocations of nowt will be queried. Otherwise nowt will be invoked with inputs.\n",
    "        \"\"\"\n",
    "        inputs= {\n",
    "        }\n",
    "        convert_classes(inputs)\n",
    "        if query_method:\n",
    "            return self.simba_contract.query_method(\"nowt\", opts)\n",
    "        else:\n",
    "            return self.simba_contract.submit_method(\"nowt\", inputs, opts, async_method)\n",
    "\n",
    "    def an_arr(self, first: List[int], async_method: Optional[bool] = False, opts: Optional[dict] = None, query_method: Optional[bool] = False):\n",
    "        \"\"\"\n",
    "        If query_method == True, then invocations of an_arr will be queried. Otherwise an_arr will be invoked with inputs.\n",
    "        \"\"\"\n",
    "        inputs= {\n",
    "            'first': first,\n",
    "        }\n",
    "        convert_classes(inputs)\n",
    "        if query_method:\n",
    "            return self.simba_contract.query_method(\"an_arr\", opts)\n",
    "        else:\n",
    "            return self.simba_contract.submit_method(\"an_arr\", inputs, opts, async_method)\n",
    "\n",
    "    def two_arrs(self, first: List[int], second: List[int], async_method: Optional[bool] = False, opts: Optional[dict] = None, query_method: Optional[bool] = False):\n",
    "        \"\"\"\n",
    "        If query_method == True, then invocations of two_arrs will be queried. Otherwise two_arrs will be invoked with inputs.\n",
    "        \"\"\"\n",
    "        inputs= {\n",
    "            'first': first,\n",
    "            'second': second,\n",
    "        }\n",
    "        convert_classes(inputs)\n",
    "        if query_method:\n",
    "            return self.simba_contract.query_method(\"two_arrs\", opts)\n",
    "        else:\n",
    "            return self.simba_contract.submit_method(\"two_arrs\", inputs, opts, async_method)\n",
    "\n",
    "    def address_arr(self, first: List[str], async_method: Optional[bool] = False, opts: Optional[dict] = None, query_method: Optional[bool] = False):\n",
    "        \"\"\"\n",
    "        If query_method == True, then invocations of address_arr will be queried. Otherwise address_arr will be invoked with inputs.\n",
    "        \"\"\"\n",
    "        inputs= {\n",
    "            'first': first,\n",
    "        }\n",
    "        convert_classes(inputs)\n",
    "        if query_method:\n",
    "            return self.simba_contract.query_method(\"address_arr\", opts)\n",
    "        else:\n",
    "            return self.simba_contract.submit_method(\"address_arr\", inputs, opts, async_method)\n",
    "\n",
    "    def nested_arr_0(self, first: List[List[int]], async_method: Optional[bool] = False, opts: Optional[dict] = None, query_method: Optional[bool] = False):\n",
    "        \"\"\"\n",
    "        If query_method == True, then invocations of nested_arr_0 will be queried. Otherwise nested_arr_0 will be invoked with inputs.\n",
    "        \"\"\"\n",
    "        inputs= {\n",
    "            'first': first,\n",
    "        }\n",
    "        convert_classes(inputs)\n",
    "        if query_method:\n",
    "            return self.simba_contract.query_method(\"nested_arr_0\", opts)\n",
    "        else:\n",
    "            return self.simba_contract.submit_method(\"nested_arr_0\", inputs, opts, async_method)\n",
    "\n",
    "    def nested_arr_1(self, first: List[List[int]], async_method: Optional[bool] = False, opts: Optional[dict] = None, query_method: Optional[bool] = False):\n",
    "        \"\"\"\n",
    "        If query_method == True, then invocations of nested_arr_1 will be queried. Otherwise nested_arr_1 will be invoked with inputs.\n",
    "        \"\"\"\n",
    "        inputs= {\n",
    "            'first': first,\n",
    "        }\n",
    "        convert_classes(inputs)\n",
    "        if query_method:\n",
    "            return self.simba_contract.query_method(\"nested_arr_1\", opts)\n",
    "        else:\n",
    "            return self.simba_contract.submit_method(\"nested_arr_1\", inputs, opts, async_method)\n",
    "\n",
    "    def nested_arr_2(self, first: List[List[int]], async_method: Optional[bool] = False, opts: Optional[dict] = None, query_method: Optional[bool] = False):\n",
    "        \"\"\"\n",
    "        If query_method == True, then invocations of nested_arr_2 will be queried. Otherwise nested_arr_2 will be invoked with inputs.\n",
    "        \"\"\"\n",
    "        inputs= {\n",
    "            'first': first,\n",
    "        }\n",
    "        convert_classes(inputs)\n",
    "        if query_method:\n",
    "            return self.simba_contract.query_method(\"nested_arr_2\", opts)\n",
    "        else:\n",
    "            return self.simba_contract.submit_method(\"nested_arr_2\", inputs, opts, async_method)\n",
    "\n",
    "    def nested_arr_3(self, first: List[List[int]], async_method: Optional[bool] = False, opts: Optional[dict] = None, query_method: Optional[bool] = False):\n",
    "        \"\"\"\n",
    "        If query_method == True, then invocations of nested_arr_3 will be queried. Otherwise nested_arr_3 will be invoked with inputs.\n",
    "        \"\"\"\n",
    "        inputs= {\n",
    "            'first': first,\n",
    "        }\n",
    "        convert_classes(inputs)\n",
    "        if query_method:\n",
    "            return self.simba_contract.query_method(\"nested_arr_3\", opts)\n",
    "        else:\n",
    "            return self.simba_contract.submit_method(\"nested_arr_3\", inputs, opts, async_method)\n",
    "\n",
    "    def nested_arr_4(self, first: List[List[int]], files: List[Tuple], async_method: Optional[bool] = False, opts: Optional[dict] = None):\n",
    "        \"\"\"\n",
    "        If async_method == True, then nested_arr_4 will be invoked as async, otherwise nested_arr_4 will be invoked as non async\n",
    "        files parameter should be list with tuple elements of form (file_name, file_path) or (file_name, readable_file_like_object).\n",
    "            see libsimba.file_handler for further details on what open_files expects as arguments\n",
    "        \"\"\"\n",
    "        inputs= {\n",
    "            'first': first,\n",
    "        }\n",
    "        convert_classes(inputs)\n",
    "        files = open_files(files)\n",
    "\n",
    "        if async_method:\n",
    "            response = self.simba_contract.submit_contract_method_with_files_async(\"nested_arr_4\", inputs, files, opts)\n",
    "            close_files(files)\n",
    "            return response\n",
    "        else:\n",
    "            response = self.simba_contract.submit_contract_method_with_files(\"nested_arr_4\", inputs, files, opts)\n",
    "            close_files(files)\n",
    "            return response\n",
    "\n",
    "    def structTest_1(self, people: List[\"TestSimbaHinted.Person\"], test_bool: bool, async_method: Optional[bool] = False, opts: Optional[dict] = None, query_method: Optional[bool] = False):\n",
    "        \"\"\"\n",
    "        If query_method == True, then invocations of structTest_1 will be queried. Otherwise structTest_1 will be invoked with inputs.\n",
    "        \"\"\"\n",
    "        inputs= {\n",
    "            'people': people,\n",
    "            'test_bool': test_bool,\n",
    "        }\n",
    "        convert_classes(inputs)\n",
    "        if query_method:\n",
    "            return self.simba_contract.query_method(\"structTest_1\", opts)\n",
    "        else:\n",
    "            return self.simba_contract.submit_method(\"structTest_1\", inputs, opts, async_method)\n",
    "\n",
    "    def structTest_2(self, person: \"TestSimbaHinted.Person\", test_bool: bool, async_method: Optional[bool] = False, opts: Optional[dict] = None, query_method: Optional[bool] = False):\n",
    "        \"\"\"\n",
    "        If query_method == True, then invocations of structTest_2 will be queried. Otherwise structTest_2 will be invoked with inputs.\n",
    "        \"\"\"\n",
    "        inputs= {\n",
    "            'person': person,\n",
    "            'test_bool': test_bool,\n",
    "        }\n",
    "        convert_classes(inputs)\n",
    "        if query_method:\n",
    "            return self.simba_contract.query_method(\"structTest_2\", opts)\n",
    "        else:\n",
    "            return self.simba_contract.submit_method(\"structTest_2\", inputs, opts, async_method)\n",
    "\n",
    "    def structTest_3(self, person: \"TestSimbaHinted.AddressPerson\", files: List[Tuple], async_method: Optional[bool] = False, opts: Optional[dict] = None):\n",
    "        \"\"\"\n",
    "        If async_method == True, then structTest_3 will be invoked as async, otherwise structTest_3 will be invoked as non async\n",
    "        files parameter should be list with tuple elements of form (file_name, file_path) or (file_name, readable_file_like_object).\n",
    "            see libsimba.file_handler for further details on what open_files expects as arguments\n",
    "        \"\"\"\n",
    "        inputs= {\n",
    "            'person': person,\n",
    "        }\n",
    "        convert_classes(inputs)\n",
    "        files = open_files(files)\n",
    "\n",
    "        if async_method:\n",
    "            response = self.simba_contract.submit_contract_method_with_files_async(\"structTest_3\", inputs, files, opts)\n",
    "            close_files(files)\n",
    "            return response\n",
    "        else:\n",
    "            response = self.simba_contract.submit_contract_method_with_files(\"structTest_3\", inputs, files, opts)\n",
    "            close_files(files)\n",
    "            return response\n",
    "\n",
    "    def structTest_4(self, persons: List[\"TestSimbaHinted.AddressPerson\"], files: List[Tuple], async_method: Optional[bool] = False, opts: Optional[dict] = None):\n",
    "        \"\"\"\n",
    "        If async_method == True, then structTest_4 will be invoked as async, otherwise structTest_4 will be invoked as non async\n",
    "        files parameter should be list with tuple elements of form (file_name, file_path) or (file_name, readable_file_like_object).\n",
    "            see libsimba.file_handler for further details on what open_files expects as arguments\n",
    "        \"\"\"\n",
    "        inputs= {\n",
    "            'persons': persons,\n",
    "        }\n",
    "        convert_classes(inputs)\n",
    "        files = open_files(files)\n",
    "\n",
    "        if async_method:\n",
    "            response = self.simba_contract.submit_contract_method_with_files_async(\"structTest_4\", inputs, files, opts)\n",
    "            close_files(files)\n",
    "            return response\n",
    "        else:\n",
    "            response = self.simba_contract.submit_contract_method_with_files(\"structTest_4\", inputs, files, opts)\n",
    "            close_files(files)\n",
    "            return response\n",
    "\n",
    "    def structTest_5(self, person: \"TestSimbaHinted.Person\", files: List[Tuple], async_method: Optional[bool] = False, opts: Optional[dict] = None):\n",
    "        \"\"\"\n",
    "        If async_method == True, then structTest_5 will be invoked as async, otherwise structTest_5 will be invoked as non async\n",
    "        files parameter should be list with tuple elements of form (file_name, file_path) or (file_name, readable_file_like_object).\n",
    "            see libsimba.file_handler for further details on what open_files expects as arguments\n",
    "        \"\"\"\n",
    "        inputs= {\n",
    "            'person': person,\n",
    "        }\n",
    "        convert_classes(inputs)\n",
    "        files = open_files(files)\n",
    "\n",
    "        if async_method:\n",
    "            response = self.simba_contract.submit_contract_method_with_files_async(\"structTest_5\", inputs, files, opts)\n",
    "            close_files(files)\n",
    "            return response\n",
    "        else:\n",
    "            response = self.simba_contract.submit_contract_method_with_files(\"structTest_5\", inputs, files, opts)\n",
    "            close_files(files)\n",
    "            return response"
   ]
  },
  {
   "source": [
    "## Here we will instantiate an instance of our contract class. You could do that from a separate file, by importing your contract class, but since we're using a notebook here, we'll just instantiate an object in the same file:\n"
   ],
   "cell_type": "markdown",
   "metadata": {}
  },
  {
   "cell_type": "code",
   "execution_count": null,
   "metadata": {},
   "outputs": [],
   "source": [
    "tsh = TestSimbaHinted()"
   ]
  },
  {
   "source": [
    "## Now we will call one of our smart contract's methods by invoking a method of our contract class object. We will call our method two_arrs, which simply takes two arrays as parameters."
   ],
   "cell_type": "markdown",
   "metadata": {}
  },
  {
   "cell_type": "code",
   "execution_count": null,
   "metadata": {},
   "outputs": [],
   "source": [
    "arr1 = [2, 4, 20, 10, 3, 3]\n",
    "arr2 = [1,3,5]\n",
    "r = tsh.two_arrs(arr1, arr2)"
   ]
  },
  {
   "source": [
    "We can inspect the response from this submission to check it has succeeded:"
   ],
   "cell_type": "markdown",
   "metadata": {}
  },
  {
   "cell_type": "code",
   "execution_count": null,
   "metadata": {},
   "outputs": [],
   "source": [
    "assert (200 <= r.status_code <= 299)\n",
    "print(r.json())"
   ]
  },
  {
   "source": [
    "## Now let's invoke structTest_5, which is a method that accepts files, and also takes a nested struct as a parameter. \n",
    "\n",
    "First we need to assign our file path and file name, as well as specify the read_mode for our file. if read_mode is not specified here, then it defaults to 'r' (see file_handler.py for documentation on this)."
   ],
   "cell_type": "markdown",
   "metadata": {}
  },
  {
   "cell_type": "code",
   "execution_count": null,
   "metadata": {},
   "outputs": [],
   "source": [
    "file_name = 'test_file'\n",
    "file_path = '../tests/data/file1.txt'\n",
    "files = [(file_name, file_path, 'r')]"
   ]
  },
  {
   "source": [
    "Now we will need to instantiate Person and Addr objects. Person takes an Addr object as one of its initialization parameters."
   ],
   "cell_type": "markdown",
   "metadata": {}
  },
  {
   "cell_type": "code",
   "execution_count": null,
   "metadata": {},
   "outputs": [],
   "source": [
    "name = \"Charlie\"\n",
    "age = 99\n",
    "street = \"rogers street\"\n",
    "number = 123\n",
    "town = \"new york\"\n",
    "addr = TestSimbaHinted.Addr(street, number, town)\n",
    "p = TestSimbaHinted.Person(name, age, addr)\n"
   ]
  },
  {
   "source": [
    "Now we will invoke structTest_5 with parameters p, and files."
   ],
   "cell_type": "markdown",
   "metadata": {}
  },
  {
   "cell_type": "code",
   "execution_count": null,
   "metadata": {},
   "outputs": [],
   "source": [
    "\n",
    "r = tsh.structTest_5(p, files)\n",
    "if 200 <= r.status_code <= 299:\n",
    "    print(r.json())"
   ]
  },
  {
   "source": [
    "\n",
    "\n"
   ],
   "cell_type": "markdown",
   "metadata": {}
  }
 ],
 "metadata": {
  "kernelspec": {
   "name": "python391jvsc74a57bd0aee8b7b246df8f9039afb4144a1f6fd8d2ca17a180786b69acc140d282b71a49",
   "display_name": "Python 3.9.1 64-bit"
  },
  "language_info": {
   "codemirror_mode": {
    "name": "ipython",
    "version": 2
   },
   "file_extension": ".py",
   "mimetype": "text/x-python",
   "name": "python",
   "nbconvert_exporter": "python",
   "pygments_lexer": "ipython2",
   "version": "3.9.1"
  }
 },
 "nbformat": 4,
 "nbformat_minor": 0
}