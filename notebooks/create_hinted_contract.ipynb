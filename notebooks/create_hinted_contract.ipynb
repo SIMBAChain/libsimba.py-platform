{
 "cells": [
  {
   "cell_type": "markdown",
   "source": [
    "# Welcome to the walkthrough for the updated Python SDK for libsimba.py-platform\n",
    "\n",
    "NOTE: please view comments regarding .py files as being interchangable with\n",
    ".ipynb files in these notebooks. Because we are writing to .py files in our\n",
    "example, but using .ipynb files for illustration here, sometimes we\n",
    "reference .py files; the developer reading this should recognize those comments\n",
    "as referring to their respective .ipynb files in this notebooks directory.\n",
    "\n",
    "This first document walks us through the process of creating a class-based representation\n",
    "of a smart contract, using SimbaHintedContract\n",
    "\n",
    "In the other jupyter notebook files in this directory, we will go through the steps needed to use the Python SDK to execute smart contract methods\n",
    "\n",
    "## First we will need to create a smart contract and application on SEP. In our case, we used a contract named “Application”. Note that the name “Application” is what shows up in our metadata - this is important because our class object will take that name, not the name that we specify in SEP, which in this case was “TestSimbaHinted” (both the app name and the specified contract name”\n",
    "\n",
    "the metadata for our smart contract has the following form:"
   ],
   "metadata": {
    "collapsed": false,
    "pycharm": {
     "name": "#%% md\n"
    }
   }
  },
  {
   "source": [
    "{\n",
    "\t\"api_name\": \"smarty\",\n",
    "\t\"name\": \"smarty\",\n",
    "\t\"network\": \"quorum\",\n",
    "\t\"network_type\": \"quorum\",\n",
    "\t\"storage\": \"<file-storage-id>\",\n",
    "\t\"storage_container\": \"<container name>\",\n",
    "\t\"poa\": true,\n",
    "\t\"simba_faucet\": false,\n",
    "\t\"type\": \"scaas\",\n",
    "\t\"blockchain_url\": \"<blockchain-url>\",\n",
    "\t\"address\": \"<contract_address>\",\n",
    "\t\"blockchain_id\": \"<blockchain-id>\",\n",
    "\t\"contract\": {\n",
    "\t\t\"assets\": {},\n",
    "\t\t\"methods\": {\n",
    "\t\t\t\"uint_and_uint_arr_test\": {\n",
    "\t\t\t\t\"params\": [{\n",
    "\t\t\t\t\t\"name\":\"first_uint\",\n",
    "\t\t\t\t\t\"type\":\"uint256\"\n",
    "\t\t\t\t}, {\n",
    "\t\t\t\t\t\"name\":\"a_nested_uint_array\",\n",
    "\t\t\t\t\t\"type\":\"uint256[5][3]\"\n",
    "\t\t\t\t}, {\n",
    "\t\t\t\t\t\"name\":\"non_nested_uint_array\",\n",
    "\t\t\t\t\t\"type\":\"uint256[][]\"\n",
    "\t\t\t\t}]\n",
    "\t\t\t},\n",
    "\t\t\t\"another_uint_param\": {\n",
    "\t\t\t\t\"params\": [{\n",
    "\t\t\t\t\t\"name\":\"another_uint\",\n",
    "\t\t\t\t\t\"type\":\"uint256\"\n",
    "\t\t\t\t}, {\n",
    "\t\t\t\t\t\"name\":\"second_uint\",\n",
    "\t\t\t\t\t\"type\":\"uint256\"\n",
    "\t\t\t\t}]\n",
    "\t\t\t},\n",
    "\t\t\t\"a_str_arr\": {\n",
    "\t\t\t\t\"params\": [{\n",
    "\t\t\t\t\t\"name\": \"first\",\n",
    "\t\t\t\t\t\"type\": \"string[]\"\n",
    "\t\t\t\t}]\n",
    "\t\t\t},\n",
    "\t\t\t\"an_arr\": {\n",
    "\t\t\t\t\"params\": [{\n",
    "\t\t\t\t\t\"name\": \"first\",\n",
    "\t\t\t\t\t\"type\": \"uint256[]\"\n",
    "\t\t\t\t}]\n",
    "\t\t\t},\n",
    "\t\t\t\"two_arrs\": {\n",
    "\t\t\t\t\"params\": [{\n",
    "\t\t\t\t\t\"name\": \"first\",\n",
    "\t\t\t\t\t\"type\": \"uint256[]\"\n",
    "\t\t\t\t}, {\n",
    "\t\t\t\t\t\"name\": \"second\",\n",
    "\t\t\t\t\t\"type\": \"uint256[]\"\n",
    "\t\t\t\t}]\n",
    "\t\t\t},\n",
    "\t\t\t\"address_arr\": {\n",
    "\t\t\t\t\"params\": [{\n",
    "\t\t\t\t\t\"name\": \"first\",\n",
    "\t\t\t\t\t\"type\": \"address[]\"\n",
    "\t\t\t\t}]\n",
    "\t\t\t},\n",
    "\t\t\t\"bbb\": {\n",
    "\t\t\t\t\"params\": [{\n",
    "\t\t\t\t\t\"name\": \"first\",\n",
    "\t\t\t\t\t\"type\": \"uint256[][]\"\n",
    "\t\t\t\t}]\n",
    "\t\t\t},\n",
    "\t\t\t\"nested_arr\": {\n",
    "\t\t\t\t\"params\": [{\n",
    "\t\t\t\t\t\"name\": \"first\",\n",
    "\t\t\t\t\t\"type\": \"uint256[][5]\"\n",
    "\t\t\t\t}]\n",
    "\t\t\t},\n",
    "\t\t\t\"nested_arr_2\": {\n",
    "\t\t\t\t\"params\": [{\n",
    "\t\t\t\t\t\"name\": \"first\",\n",
    "\t\t\t\t\t\"type\": \"uint256[4][]\"\n",
    "\t\t\t\t}]\n",
    "\t\t\t},\n",
    "\t\t\t\"nested_arr_3\": {\n",
    "\t\t\t\t\"params\": [{\n",
    "\t\t\t\t\t\"name\": \"first\",\n",
    "\t\t\t\t\t\"type\": \"uint256[3][3]\"\n",
    "\t\t\t\t}]\n",
    "\t\t\t},\n",
    "\t\t\t\"nested_arr_4\": {\n",
    "\t\t\t\t\"params\": [{\n",
    "\t\t\t\t\t\"name\": \"first\",\n",
    "\t\t\t\t\t\"type\": \"uint256[3][3]\"\n",
    "\t\t\t\t}, {\n",
    "\t\t\t\t\t\"name\": \"_bundleHash\",\n",
    "\t\t\t\t\t\"type\": \"string\"\n",
    "\t\t\t\t}]\n",
    "\t\t\t},\n",
    "\t\t\t\"structTest_1\": {\n",
    "\t\t\t\t\"params\": [{\n",
    "\t\t\t\t\t\"name\": \"people\",\n",
    "\t\t\t\t\t\"type\": \"struct Application.Person[]\",\n",
    "\t\t\t\t\t\"simba_type\": \"datetime\"\n",
    "\t\t\t\t}, {\n",
    "\t\t\t\t\t\"name\": \"test_bool\",\n",
    "\t\t\t\t\t\"type\": \"bool\",\n",
    "\t\t\t\t\t\"simba_type\": \"boolean\",\n",
    "\t\t\t\t\t\"default_value\": true\n",
    "\t\t\t\t}],\n",
    "\t\t\t\t\"documentation\": \"@notice profile=US;\\n@param people simba-type=datetime;\\n@param test_bool simba-type=boolean;\"\n",
    "\t\t\t},\n",
    "\t\t\t\"structTest_2\": {\n",
    "\t\t\t\t\"params\": [{\n",
    "\t\t\t\t\t\"name\": \"person\",\n",
    "\t\t\t\t\t\"type\": \"struct Application.Person\"\n",
    "\t\t\t\t}, {\n",
    "\t\t\t\t\t\"name\": \"test_bool\",\n",
    "\t\t\t\t\t\"type\": \"bool\"\n",
    "\t\t\t\t}]\n",
    "\t\t\t},\n",
    "\t\t\t\"structTest_5\": {\n",
    "\t\t\t\t\"params\": [{\n",
    "\t\t\t\t\t\"name\": \"person\",\n",
    "\t\t\t\t\t\"type\": \"struct Application.Person\"\n",
    "\t\t\t\t}, {\n",
    "\t\t\t\t\t\"name\": \"_bundleHash\",\n",
    "\t\t\t\t\t\"type\": \"string\"\n",
    "\t\t\t\t}]\n",
    "\t\t\t},\n",
    "\t\t\t\"structTest_3\": {\n",
    "\t\t\t\t\"params\": [{\n",
    "\t\t\t\t\t\"name\": \"person\",\n",
    "\t\t\t\t\t\"type\": \"struct Application.AddressPerson\"\n",
    "\t\t\t\t}, {\n",
    "\t\t\t\t\t\"name\": \"_bundleHash\",\n",
    "\t\t\t\t\t\"type\": \"string\"\n",
    "\t\t\t\t}]\n",
    "\t\t\t},\n",
    "\t\t\t\"structTest_4\": {\n",
    "\t\t\t\t\"params\": [{\n",
    "\t\t\t\t\t\"name\": \"persons\",\n",
    "\t\t\t\t\t\"type\": \"struct Application.AddressPerson[]\"\n",
    "\t\t\t\t}, {\n",
    "\t\t\t\t\t\"name\": \"_bundleHash\",\n",
    "\t\t\t\t\t\"type\": \"string\"\n",
    "\t\t\t\t}]\n",
    "\t\t\t},\n",
    "\t\t\t\"structTest_6\": {\n",
    "\t\t\t\t\"params\": [{\n",
    "\t\t\t\t\t\"name\": \"persons_0\",\n",
    "\t\t\t\t\t\"type\": \"struct Application.AddressPerson[]\"\n",
    "\t\t\t\t}, {\n",
    "\t\t\t\t\t\"name\": \"_bundleHash\",\n",
    "\t\t\t\t\t\"type\": \"string\"\n",
    "\t\t\t\t}]\n",
    "\t\t\t},\n",
    "\t\t\t\"nowt\": {\n",
    "\t\t\t\t\"params\": []\n",
    "\t\t\t},\n",
    "\t\t\t\"date_string\": {\n",
    "\t\t\t\t\"params\": [\n",
    "\t\t\t\t\t{\n",
    "\t\t\t\t\t\t\"name\": \"the_date\",\n",
    "\t\t\t\t\t\t\"type\": \"string\",\n",
    "\t\t\t\t\t\t\"simba_type\": \"real\"\n",
    "\t\t\t\t\t}\n",
    "\t\t\t\t]\n",
    "\t\t\t}\n",
    "\t\t},\n",
    "\t\t\"types\": {\n",
    "\t\t\t\"Application.Person\": {\n",
    "\t\t\t\t\"components\": [{\n",
    "\t\t\t\t\t\"name\": \"name\",\n",
    "\t\t\t\t\t\"type\": \"string\",\n",
    "\t\t\t\t\t\"default_value\": \"2020-01-01T00:00:00.000\"\n",
    "\t\t\t\t}, {\n",
    "\t\t\t\t\t\"name\": \"age\",\n",
    "\t\t\t\t\t\"type\": \"uint256\",\n",
    "\t\t\t\t\t\"default_value\": \"99\"\n",
    "\t\t\t\t}, {\n",
    "\t\t\t\t\t\"name\": \"addr\",\n",
    "\t\t\t\t\t\"type\": \"struct Application.Addr\"\n",
    "\t\t\t\t}]\n",
    "\t\t\t},\n",
    "\t\t\t\"Application.Addr\": {\n",
    "\t\t\t\t\"components\": [{\n",
    "\t\t\t\t\t\"name\": \"street\",\n",
    "\t\t\t\t\t\"type\": \"string\"\n",
    "\t\t\t\t}, {\n",
    "\t\t\t\t\t\"name\": \"number\",\n",
    "\t\t\t\t\t\"type\": \"uint256\"\n",
    "\t\t\t\t}, {\n",
    "\t\t\t\t\t\"name\": \"town\",\n",
    "\t\t\t\t\t\"type\": \"string\"\n",
    "\t\t\t\t}]\n",
    "\t\t\t},\n",
    "\t\t\t\"Application.AddressPerson\": {\n",
    "\t\t\t\t\"components\": [{\n",
    "\t\t\t\t\t\"name\": \"name\",\n",
    "\t\t\t\t\t\"type\": \"string\"\n",
    "\t\t\t\t}, {\n",
    "\t\t\t\t\t\"name\": \"age\",\n",
    "\t\t\t\t\t\"type\": \"uint256\"\n",
    "\t\t\t\t}, {\n",
    "\t\t\t\t\t\"name\": \"addrs\",\n",
    "\t\t\t\t\t\"type\": \"struct Application.Addr[]\"\n",
    "\t\t\t\t}]\n",
    "\t\t\t}\n",
    "\t\t},\n",
    "\t\t\"source\": {\n",
    "\t\t\t\"lang\": \"solidity\",\n",
    "\t\t\t\"version\": \"0.5.10\"\n",
    "\t\t},\n",
    "\t\t\"name\": \"Application\",\n",
    "\t\t\"documentation\": \"@notice profile=US;\\n@title yay\"\n",
    "\t}\n",
    "}"
   ],
   "cell_type": "markdown",
   "metadata": {
    "collapsed": false,
    "pycharm": {
     "name": "#%% md\n"
    }
   }
  },
  {
   "cell_type": "markdown",
   "source": [
    "## Next, we will need to instantiate a SimbaHintedContract object, using the contract name and app name that we specified when we created our app on SEP:"
   ],
   "metadata": {
    "collapsed": false,
    "pycharm": {
     "name": "#%% md\n"
    }
   }
  },
  {
   "cell_type": "markdown",
   "source": [
    "NOTE: THE FOLLOWING CODE IS EXECUTED IN THE FILE \"create_hinted_contract.py\" in our directory\n",
    "\n",
    "From our file titled \"create_hinted_contract.py\", import our SimbaHintedContract class:"
   ],
   "metadata": {
    "collapsed": false,
    "pycharm": {
     "name": "#%% md\n"
    }
   }
  },
  {
   "cell_type": "code",
   "execution_count": 5,
   "outputs": [
    {
     "output_type": "error",
     "ename": "ModuleNotFoundError",
     "evalue": "No module named 'libsimba.simba_hinted_contract'",
     "traceback": [
      "\u001b[0;31m---------------------------------------------------------------------------\u001b[0m",
      "\u001b[0;31mModuleNotFoundError\u001b[0m                       Traceback (most recent call last)",
      "\u001b[0;32m<ipython-input-5-077b47231f66>\u001b[0m in \u001b[0;36m<module>\u001b[0;34m\u001b[0m\n\u001b[0;32m----> 1\u001b[0;31m \u001b[0;32mfrom\u001b[0m \u001b[0mlibsimba\u001b[0m\u001b[0;34m.\u001b[0m\u001b[0msimba_hinted_contract\u001b[0m \u001b[0;32mimport\u001b[0m \u001b[0mSimbaHintedContract\u001b[0m\u001b[0;34m\u001b[0m\u001b[0;34m\u001b[0m\u001b[0m\n\u001b[0m",
      "\u001b[0;31mModuleNotFoundError\u001b[0m: No module named 'libsimba.simba_hinted_contract'"
     ]
    }
   ],
   "source": [
    "from libsimba.simba_hinted_contract import SimbaHintedContract"
   ],
   "metadata": {
    "collapsed": false,
    "pycharm": {
     "name": "#%%"
    }
   }
  },
  {
   "cell_type": "markdown",
   "source": [
    "Next, define our app name, contract name, base api url, and the name / path of our output file.\n",
    "This output file will be the name of the file that we write our class-based contract object to."
   ],
   "metadata": {
    "collapsed": false,
    "pycharm": {
     "name": "#%% md\n"
    }
   }
  },
  {
   "cell_type": "code",
   "execution_count": null,
   "outputs": [],
   "source": [
    "app_name = \"TestSimbaHinted\"\n",
    "contract_name = \"TestSimbaHinted\"\n",
    "base_api_url = 'https://api.sep.dev.simbachain.com/'\n",
    "output_file = \"generated_simba_hinted_contract.py\""
   ],
   "metadata": {
    "collapsed": false,
    "pycharm": {
     "name": "#%%\n"
    }
   }
  },
  {
   "cell_type": "markdown",
   "source": [
    "Here is the step where we actually instantiate our SimbaHintedContract object:"
   ],
   "metadata": {
    "collapsed": false,
    "pycharm": {
     "name": "#%% md\n"
    }
   }
  },
  {
   "cell_type": "code",
   "execution_count": null,
   "outputs": [],
   "source": [
    "sch = SimbaHintedContract(app_name, contract_name, base_api_url, output_file=output_file)"
   ],
   "metadata": {
    "collapsed": false,
    "pycharm": {
     "name": "#%%\n"
    }
   }
  },
  {
   "cell_type": "markdown",
   "source": [
    "Finally, we will call our write_contract method, which will write our class-based smart contract to \"generated_simba_hinted_contract.py\":"
   ],
   "metadata": {
    "collapsed": false,
    "pycharm": {
     "name": "#%% md\n"
    }
   }
  },
  {
   "cell_type": "code",
   "execution_count": null,
   "outputs": [],
   "source": [
    "sch.write_contract()\n",
    "\n",
    "\n"
   ],
   "metadata": {
    "collapsed": false,
    "pycharm": {
     "name": "#%%\n"
    }
   }
  }
 ],
 "metadata": {
  "kernelspec": {
   "name": "python391jvsc74a57bd0aee8b7b246df8f9039afb4144a1f6fd8d2ca17a180786b69acc140d282b71a49",
   "display_name": "Python 3.9.1 64-bit"
  },
  "language_info": {
   "codemirror_mode": {
    "name": "ipython",
    "version": 2
   },
   "file_extension": ".py",
   "mimetype": "text/x-python",
   "name": "python",
   "nbconvert_exporter": "python",
   "pygments_lexer": "ipython2",
   "version": "3.9.1"
  }
 },
 "nbformat": 4,
 "nbformat_minor": 0
}