{
 "cells": [
  {
   "cell_type": "markdown",
   "metadata": {
    "collapsed": true,
    "pycharm": {
     "name": "#%% md\n"
    }
   },
   "source": [
    "NOTE: please view comments regarding .py files as being interchangable with\n",
    ".ipynb files in these notebooks. Because we are writing to .py files in our\n",
    "example, but using .ipynb files for illustration here, sometimes we\n",
    "reference .py files; the developer reading this should recognize those comments\n",
    "as referring to their respective .ipynb files in this notebooks directory.\n",
    "\n",
    "\n",
    "NOTE: THE FOLLOWING, FINAL CODE IS EXECUTED IN THE FILE \"param_checker_unit_tests.py\".\n",
    "\n",
    "Next, we invoke contract methods by first instantiating an instance of our new contract object, then calling its methods.\n",
    "We are doing this here as unit tests, which will illustrate a few features of our SDK. We do this in a new .py file titled \"param_checker_unit_tests.py\".\n",
    "\n",
    "NOTE: even though here we are using a .ipynb file for illustrative purposes, we\n",
    "would actually be importing from a file titled \"generated_simba_hinted_contract.py\"\n",
    "\n",
    "We need to import our new smart contract python class, which in this case was called \"Application.\"\n",
    "Note also that we would be importing from \"generated_simba_hinted_contract.py\""
   ]
  },
  {
   "cell_type": "code",
   "execution_count": 1,
   "outputs": [
    {
     "output_type": "error",
     "ename": "ModuleNotFoundError",
     "evalue": "No module named 'generated_simba_hinted_contract'",
     "traceback": [
      "\u001B[0;31m---------------------------------------------------------------------------\u001B[0m",
      "\u001B[0;31mModuleNotFoundError\u001B[0m                       Traceback (most recent call last)",
      "\u001B[0;32m<ipython-input-1-106ca1a234e3>\u001B[0m in \u001B[0;36m<module>\u001B[0;34m\u001B[0m\n\u001B[1;32m      1\u001B[0m \u001B[0;32mimport\u001B[0m \u001B[0munittest\u001B[0m\u001B[0;34m\u001B[0m\u001B[0;34m\u001B[0m\u001B[0m\n\u001B[0;32m----> 2\u001B[0;31m \u001B[0;32mfrom\u001B[0m \u001B[0mgenerated_simba_hinted_contract\u001B[0m \u001B[0;32mimport\u001B[0m \u001B[0mApplication\u001B[0m\u001B[0;34m\u001B[0m\u001B[0;34m\u001B[0m\u001B[0m\n\u001B[0m",
      "\u001B[0;31mModuleNotFoundError\u001B[0m: No module named 'generated_simba_hinted_contract'"
     ]
    }
   ],
   "source": [
    "import unittest\n",
    "from generated_simba_hinted_contract import Application"
   ],
   "metadata": {
    "collapsed": false,
    "pycharm": {
     "name": "#%%\n"
    }
   }
  },
  {
   "cell_type": "markdown",
   "source": [
    "Now we will run our unit tests, which illustrate how different method calls are made for our contract"
   ],
   "metadata": {
    "collapsed": false,
    "pycharm": {
     "name": "#%% md\n"
    }
   }
  },
  {
   "cell_type": "code",
   "execution_count": null,
   "outputs": [],
   "source": [
    "class TestSimbaOutput(unittest.TestCase):\n",
    "\n",
    "    a = Application()\n",
    "\n",
    "    def test_view_param_restrictions(self):\n",
    "        # comment out this function to prevent printing of parameter restrictions\n",
    "        print('parameter restrictions:')\n",
    "        print(TestSimbaOutput.a.simba_contract.params_restricted)\n",
    "\n",
    "    def test_fail_negative_array_input(self):\n",
    "        # following should fail because elements must be uints\n",
    "        arr1 = [-10,4,6,8]\n",
    "        arr2 = [1,3,5,10]\n",
    "        with self.assertRaises(ValueError):\n",
    "            TestSimbaOutput.a.two_arrs(arr1, arr2)\n",
    "\n",
    "    def test_fail_non_uint_input(self):\n",
    "        # following should fail because this method's array params should only accept\n",
    "        arr1 = [2, 4, 'hello', 10]\n",
    "        arr2 = [1,3,5]\n",
    "        with self.assertRaises(TypeError):\n",
    "            TestSimbaOutput.a.two_arrs(arr1, arr2)\n",
    "\n",
    "    def test_pass_unequal_lengths(self):\n",
    "        # should pass - two_arrs does not have length requirements on arrays\n",
    "        arr1 = [2, 4, 20, 10, 3, 3]\n",
    "        arr2 = [1,3,5]\n",
    "        status_code = TestSimbaOutput.a.two_arrs(arr1, arr2).status_code\n",
    "        self.assertEqual(status_code, 202)\n",
    "\n",
    "    def test_fail_incorrect_outer_array_lengths(self):\n",
    "        # should fail - nested_arr_3 must contain 3 arrays\n",
    "        arr1 = [[1,2,3], [2,2,2]]\n",
    "        with self.assertRaises(ValueError):\n",
    "            TestSimbaOutput.a.nested_arr_3(arr1)\n",
    "\n",
    "    def test_fail_incorrect_inner_array_lengths(self):\n",
    "        # should fail - nested_arr_3's arrays must contain 3 elements\n",
    "        arr1 = [[1,2,3], [99,99], [13,13,13]]\n",
    "        with self.assertRaises(ValueError):\n",
    "            TestSimbaOutput.a.nested_arr_3(arr1)\n",
    "\n",
    "    def test_fail_mixed_element_data_types(self):\n",
    "        # should fail - array element data types cannot be mixed in solidity\n",
    "        arr1 = [[2,2,2], 'hello', [13,13,13]]\n",
    "        with self.assertRaises(TypeError):\n",
    "            TestSimbaOutput.a.nested_arr_3(arr1)\n",
    "\n",
    "    def test_fail_too_many_dimensions(self):\n",
    "        # should fail - too many dimensions\n",
    "        arr1 = [1,2,3]\n",
    "        arr2 = [[arr1,arr1,arr1], [arr1,arr1,arr1], [arr1,arr1,arr1]]\n",
    "        with self.assertRaises(ValueError):\n",
    "            TestSimbaOutput.a.nested_arr_3(arr2)\n",
    "\n",
    "if __name__ == '__main__':\n",
    "    unittest.main()"
   ],
   "metadata": {
    "collapsed": false,
    "pycharm": {
     "name": "#%%\n"
    }
   }
  },
  {
   "cell_type": "markdown",
   "source": [
    "Now if we view our App in SEP, we can see that only one of these methods was invoked (test_pass_unequal_lengths).\n",
    "\n",
    "The reason only one of those methods was invoked is that we passed invalid parameters for those other method calls, which illustrates a really cool aspect of our SDK: it enforces array length and uint requirements for the contract from which our contract class was derived. More specifically, if a parameter is a fixed-length array, a uint (int > 0), a dynamic (non-fixed-length) array that contains uint types, or a fixed-length array that contains uint types, then the relevant restrictions for those parameters are enforced.\n",
    "\n",
    "To explain this, we need to understand how restrictions for our contract’s methods are stored. A SimbaHintedContract object has an attribute titled params_restricted. For this particular object / contract, params_restricted looks like:"
   ],
   "metadata": {
    "collapsed": false
   }
  },
  {
   "cell_type": "code",
   "execution_count": null,
   "outputs": [],
   "source": [
    "{'an_arr':\n",
    "     {'array_params': {'first': {0: None, 'contains_uint': True}}},\n",
    "'two_arrs':\n",
    "    {'array_params': {'first': {0: None, 'contains_uint': True}, 'second': {0: None, 'contains_uint': True}}},\n",
    " 'nested_arr_0':\n",
    "     {'array_params': {'first': {0: None, 1: None, 'contains_uint': True}}},\n",
    " 'nested_arr_1':\n",
    "     {'array_params': {'first': {0: None, 1: 5, 'contains_uint': True}}},\n",
    " 'nested_arr_2':\n",
    "     {'array_params': {'first': {0: 4, 1: None, 'contains_uint': True}}},\n",
    " 'nested_arr_3':\n",
    "     {'array_params': {'first': {0: 3, 1: 3, 'contains_uint': True}}},\n",
    " 'nested_arr_4':\n",
    "     {'array_params': {'first': {0: 3, 1: 3, 'contains_uint': True}}}\n",
    " }"
   ],
   "metadata": {
    "collapsed": false,
    "pycharm": {
     "name": "#%%\n"
    }
   }
  },
  {
   "cell_type": "markdown",
   "source": [
    "Since we are purposefully passing failing parameters to nested_arr_3, let’s take a look at what’s going on with that method, this params_restricted dictionary, and our method calls. First, if you look at the original metadata, the method nested_arr_3 looks like:"
   ],
   "metadata": {
    "collapsed": false
   }
  },
  {
   "cell_type": "code",
   "execution_count": null,
   "outputs": [],
   "source": [
    "{\"nested_arr_3\":\n",
    "    {\"params\":\n",
    "        [{\n",
    "            \"name\": \"first\",\n",
    "            \"type\": \"uint256[3][3]\"\n",
    "        }]\n",
    "    }\n",
    "}"
   ],
   "metadata": {
    "collapsed": false,
    "pycharm": {
     "name": "#%%\n"
    }
   }
  },
  {
   "cell_type": "markdown",
   "source": [
    "What’s indicated by “type”: “uint256[3][3]” is that our param “first” should be an array of length 3, containing arrays of length 3. The entries in these inner arrays should be uint256 types. In Python, we simply enforce that these values must be of type int >= 0.\n",
    "\n",
    "As to how our SimbaHintedObject keeps this information in state, if we look inside our params_restricted dictionary, we will see the following:\n",
    "\n",
    "'nested_arr_3': {'array_params': {'first': {0: 3, 1: 3, 'contains_uint': True}}}\n",
    "\n",
    "The 0:3 entry for “first” means that our outermost array dimension / layer of our parameter must be of length three. Similarly, the 1:3 entry means that the second dimension/layer of our parameter must be of length 3. Finally, the ‘contains_int’:True key value pair is pretty self-explanatory: the innermost arrays in our parameter must contain uint types.\n",
    "\n",
    "It is encouraged to go through the method invocations in our unit tests and see why all but one failed. Doing so will make clear that we are enforcing a number of restrictions, such as not allowing mixing of element types within arrays, since Solidity does not allow for mixing of element types within arrays.\n",
    "\n",
    "\n",
    "\n"
   ],
   "metadata": {
    "collapsed": false,
    "pycharm": {
     "name": "#%% md\n"
    }
   }
  }
 ],
 "metadata": {
  "kernelspec": {
   "name": "python391jvsc74a57bd0aee8b7b246df8f9039afb4144a1f6fd8d2ca17a180786b69acc140d282b71a49",
   "display_name": "Python 3.9.1 64-bit"
  },
  "language_info": {
   "codemirror_mode": {
    "name": "ipython",
    "version": 2
   },
   "file_extension": ".py",
   "mimetype": "text/x-python",
   "name": "python",
   "nbconvert_exporter": "python",
   "pygments_lexer": "ipython2",
   "version": "3.9.1"
  }
 },
 "nbformat": 4,
 "nbformat_minor": 0
}